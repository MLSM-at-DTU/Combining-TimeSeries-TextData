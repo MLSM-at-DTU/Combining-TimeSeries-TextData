{
 "cells": [
  {
   "cell_type": "code",
   "execution_count": 1,
   "metadata": {},
   "outputs": [
    {
     "name": "stderr",
     "output_type": "stream",
     "text": [
      "/usr/local/lib/python2.7/dist-packages/pandas/core/computation/__init__.py:18: UserWarning: The installed version of numexpr 2.4.3 is not supported in pandas and will be not be used\n",
      "The minimum supported version is 2.4.6\n",
      "\n",
      "  ver=ver, min_ver=_MIN_NUMEXPR_VERSION), UserWarning)\n"
     ]
    }
   ],
   "source": [
    "import numpy as np\n",
    "import pandas as pd\n",
    "import texttk\n",
    "from datetime import datetime\n",
    "import gensim"
   ]
  },
  {
   "cell_type": "markdown",
   "metadata": {},
   "source": [
    "## Load events data"
   ]
  },
  {
   "cell_type": "code",
   "execution_count": 28,
   "metadata": {},
   "outputs": [
    {
     "data": {
      "text/html": [
       "<div>\n",
       "<style>\n",
       "    .dataframe thead tr:only-child th {\n",
       "        text-align: right;\n",
       "    }\n",
       "\n",
       "    .dataframe thead th {\n",
       "        text-align: left;\n",
       "    }\n",
       "\n",
       "    .dataframe tbody tr th {\n",
       "        vertical-align: top;\n",
       "    }\n",
       "</style>\n",
       "<table border=\"1\" class=\"dataframe\">\n",
       "  <thead>\n",
       "    <tr style=\"text-align: right;\">\n",
       "      <th></th>\n",
       "      <th>start_time</th>\n",
       "      <th>title</th>\n",
       "      <th>url</th>\n",
       "      <th>description</th>\n",
       "    </tr>\n",
       "  </thead>\n",
       "  <tbody>\n",
       "    <tr>\n",
       "      <th>0</th>\n",
       "      <td>2014-03-15T20:00:00-0400</td>\n",
       "      <td>Carnage at Terminal 5</td>\n",
       "      <td>593163697436226</td>\n",
       "      <td>CARNAGE at Terminal 5 on 03/15  18+  More Info...</td>\n",
       "    </tr>\n",
       "    <tr>\n",
       "      <th>1</th>\n",
       "      <td>2014-11-11T20:00:00-0500</td>\n",
       "      <td>London Grammar at Terminal 5</td>\n",
       "      <td>1465453707047232</td>\n",
       "      <td>London Grammar at Terminal 5 on 11/11  All Age...</td>\n",
       "    </tr>\n",
       "    <tr>\n",
       "      <th>2</th>\n",
       "      <td>2014-10-17T19:00:00-0400</td>\n",
       "      <td>Citizen Cope at Terminal 5 on 10/17</td>\n",
       "      <td>265560376982598</td>\n",
       "      <td>* Clarence Greenwood Recordings 10th Anniversa...</td>\n",
       "    </tr>\n",
       "    <tr>\n",
       "      <th>3</th>\n",
       "      <td>2015-11-19T19:00:00-0500</td>\n",
       "      <td>Azealia Banks</td>\n",
       "      <td>1526707847627630</td>\n",
       "      <td>Azealia Banks</td>\n",
       "    </tr>\n",
       "    <tr>\n",
       "      <th>4</th>\n",
       "      <td>2013-10-22T19:00:00-0400</td>\n",
       "      <td>Cold War Kids at Terminal 5</td>\n",
       "      <td>641278195885283</td>\n",
       "      <td>COLD WAR KIDS at Terminal 5 on 10/22  Californ...</td>\n",
       "    </tr>\n",
       "  </tbody>\n",
       "</table>\n",
       "</div>"
      ],
      "text/plain": [
       "                 start_time                                title  \\\n",
       "0  2014-03-15T20:00:00-0400                Carnage at Terminal 5   \n",
       "1  2014-11-11T20:00:00-0500         London Grammar at Terminal 5   \n",
       "2  2014-10-17T19:00:00-0400  Citizen Cope at Terminal 5 on 10/17   \n",
       "3  2015-11-19T19:00:00-0500                        Azealia Banks   \n",
       "4  2013-10-22T19:00:00-0400          Cold War Kids at Terminal 5   \n",
       "\n",
       "                url                                        description  \n",
       "0   593163697436226  CARNAGE at Terminal 5 on 03/15  18+  More Info...  \n",
       "1  1465453707047232  London Grammar at Terminal 5 on 11/11  All Age...  \n",
       "2   265560376982598  * Clarence Greenwood Recordings 10th Anniversa...  \n",
       "3  1526707847627630                                      Azealia Banks  \n",
       "4   641278195885283  COLD WAR KIDS at Terminal 5 on 10/22  Californ...  "
      ]
     },
     "execution_count": 28,
     "metadata": {},
     "output_type": "execute_result"
    }
   ],
   "source": [
    "events = pd.read_csv(\"../facebook/terminal5nyc.tsv\", sep=\"\\t\")\n",
    "events.head()"
   ]
  },
  {
   "cell_type": "code",
   "execution_count": 29,
   "metadata": {},
   "outputs": [
    {
     "data": {
      "text/html": [
       "<div>\n",
       "<style>\n",
       "    .dataframe thead tr:only-child th {\n",
       "        text-align: right;\n",
       "    }\n",
       "\n",
       "    .dataframe thead th {\n",
       "        text-align: left;\n",
       "    }\n",
       "\n",
       "    .dataframe tbody tr th {\n",
       "        vertical-align: top;\n",
       "    }\n",
       "</style>\n",
       "<table border=\"1\" class=\"dataframe\">\n",
       "  <thead>\n",
       "    <tr style=\"text-align: right;\">\n",
       "      <th></th>\n",
       "      <th>start_time</th>\n",
       "      <th>title</th>\n",
       "      <th>url</th>\n",
       "      <th>description</th>\n",
       "    </tr>\n",
       "  </thead>\n",
       "  <tbody>\n",
       "    <tr>\n",
       "      <th>0</th>\n",
       "      <td>2014-03-15 20:00:00</td>\n",
       "      <td>Carnage at Terminal 5</td>\n",
       "      <td>593163697436226</td>\n",
       "      <td>CARNAGE at Terminal 5 on 03/15  18+  More Info...</td>\n",
       "    </tr>\n",
       "    <tr>\n",
       "      <th>1</th>\n",
       "      <td>2014-11-11 20:00:00</td>\n",
       "      <td>London Grammar at Terminal 5</td>\n",
       "      <td>1465453707047232</td>\n",
       "      <td>London Grammar at Terminal 5 on 11/11  All Age...</td>\n",
       "    </tr>\n",
       "    <tr>\n",
       "      <th>2</th>\n",
       "      <td>2014-10-17 19:00:00</td>\n",
       "      <td>Citizen Cope at Terminal 5 on 10/17</td>\n",
       "      <td>265560376982598</td>\n",
       "      <td>* Clarence Greenwood Recordings 10th Anniversa...</td>\n",
       "    </tr>\n",
       "    <tr>\n",
       "      <th>3</th>\n",
       "      <td>2015-11-19 19:00:00</td>\n",
       "      <td>Azealia Banks</td>\n",
       "      <td>1526707847627630</td>\n",
       "      <td>Azealia Banks</td>\n",
       "    </tr>\n",
       "    <tr>\n",
       "      <th>4</th>\n",
       "      <td>2013-10-22 19:00:00</td>\n",
       "      <td>Cold War Kids at Terminal 5</td>\n",
       "      <td>641278195885283</td>\n",
       "      <td>COLD WAR KIDS at Terminal 5 on 10/22  Californ...</td>\n",
       "    </tr>\n",
       "  </tbody>\n",
       "</table>\n",
       "</div>"
      ],
      "text/plain": [
       "           start_time                                title               url  \\\n",
       "0 2014-03-15 20:00:00                Carnage at Terminal 5   593163697436226   \n",
       "1 2014-11-11 20:00:00         London Grammar at Terminal 5  1465453707047232   \n",
       "2 2014-10-17 19:00:00  Citizen Cope at Terminal 5 on 10/17   265560376982598   \n",
       "3 2015-11-19 19:00:00                        Azealia Banks  1526707847627630   \n",
       "4 2013-10-22 19:00:00          Cold War Kids at Terminal 5   641278195885283   \n",
       "\n",
       "                                         description  \n",
       "0  CARNAGE at Terminal 5 on 03/15  18+  More Info...  \n",
       "1  London Grammar at Terminal 5 on 11/11  All Age...  \n",
       "2  * Clarence Greenwood Recordings 10th Anniversa...  \n",
       "3                                      Azealia Banks  \n",
       "4  COLD WAR KIDS at Terminal 5 on 10/22  Californ...  "
      ]
     },
     "execution_count": 29,
     "metadata": {},
     "output_type": "execute_result"
    }
   ],
   "source": [
    "from datetime import datetime,timedelta\n",
    "def dt_parse(t):\n",
    "    ret = datetime.strptime(t[0:16],'%Y-%m-%dT%H:%M')\n",
    "    #if t[19]=='+':\n",
    "    #    ret-=timedelta(hours=int(t[19:22]),minutes=int(t[23:]))\n",
    "    #elif t[19]=='-':\n",
    "    #    ret+=timedelta(hours=int(t[19:22]),minutes=int(t[23:]))\n",
    "    return ret\n",
    "\n",
    "times = []\n",
    "for t in events['start_time'].values:\n",
    "    times.append(dt_parse(t))\n",
    "events['start_time'] = times\n",
    "events.head()"
   ]
  },
  {
   "cell_type": "code",
   "execution_count": 30,
   "metadata": {},
   "outputs": [
    {
     "data": {
      "text/html": [
       "<div>\n",
       "<style>\n",
       "    .dataframe thead tr:only-child th {\n",
       "        text-align: right;\n",
       "    }\n",
       "\n",
       "    .dataframe thead th {\n",
       "        text-align: left;\n",
       "    }\n",
       "\n",
       "    .dataframe tbody tr th {\n",
       "        vertical-align: top;\n",
       "    }\n",
       "</style>\n",
       "<table border=\"1\" class=\"dataframe\">\n",
       "  <thead>\n",
       "    <tr style=\"text-align: right;\">\n",
       "      <th></th>\n",
       "      <th>date</th>\n",
       "      <th>start_time</th>\n",
       "      <th>title</th>\n",
       "      <th>url</th>\n",
       "      <th>description</th>\n",
       "    </tr>\n",
       "  </thead>\n",
       "  <tbody>\n",
       "    <tr>\n",
       "      <th>0</th>\n",
       "      <td>2014-03-15</td>\n",
       "      <td>2014-03-15 20:00:00</td>\n",
       "      <td>Carnage at Terminal 5</td>\n",
       "      <td>593163697436226</td>\n",
       "      <td>CARNAGE at Terminal 5 on 03/15  18+  More Info...</td>\n",
       "    </tr>\n",
       "    <tr>\n",
       "      <th>1</th>\n",
       "      <td>2014-11-11</td>\n",
       "      <td>2014-11-11 20:00:00</td>\n",
       "      <td>London Grammar at Terminal 5</td>\n",
       "      <td>1465453707047232</td>\n",
       "      <td>London Grammar at Terminal 5 on 11/11  All Age...</td>\n",
       "    </tr>\n",
       "    <tr>\n",
       "      <th>2</th>\n",
       "      <td>2014-10-17</td>\n",
       "      <td>2014-10-17 19:00:00</td>\n",
       "      <td>Citizen Cope at Terminal 5 on 10/17</td>\n",
       "      <td>265560376982598</td>\n",
       "      <td>* Clarence Greenwood Recordings 10th Anniversa...</td>\n",
       "    </tr>\n",
       "    <tr>\n",
       "      <th>3</th>\n",
       "      <td>2015-11-19</td>\n",
       "      <td>2015-11-19 19:00:00</td>\n",
       "      <td>Azealia Banks</td>\n",
       "      <td>1526707847627630</td>\n",
       "      <td>Azealia Banks</td>\n",
       "    </tr>\n",
       "    <tr>\n",
       "      <th>4</th>\n",
       "      <td>2013-10-22</td>\n",
       "      <td>2013-10-22 19:00:00</td>\n",
       "      <td>Cold War Kids at Terminal 5</td>\n",
       "      <td>641278195885283</td>\n",
       "      <td>COLD WAR KIDS at Terminal 5 on 10/22  Californ...</td>\n",
       "    </tr>\n",
       "  </tbody>\n",
       "</table>\n",
       "</div>"
      ],
      "text/plain": [
       "         date          start_time                                title  \\\n",
       "0  2014-03-15 2014-03-15 20:00:00                Carnage at Terminal 5   \n",
       "1  2014-11-11 2014-11-11 20:00:00         London Grammar at Terminal 5   \n",
       "2  2014-10-17 2014-10-17 19:00:00  Citizen Cope at Terminal 5 on 10/17   \n",
       "3  2015-11-19 2015-11-19 19:00:00                        Azealia Banks   \n",
       "4  2013-10-22 2013-10-22 19:00:00          Cold War Kids at Terminal 5   \n",
       "\n",
       "                url                                        description  \n",
       "0   593163697436226  CARNAGE at Terminal 5 on 03/15  18+  More Info...  \n",
       "1  1465453707047232  London Grammar at Terminal 5 on 11/11  All Age...  \n",
       "2   265560376982598  * Clarence Greenwood Recordings 10th Anniversa...  \n",
       "3  1526707847627630                                      Azealia Banks  \n",
       "4   641278195885283  COLD WAR KIDS at Terminal 5 on 10/22  Californ...  "
      ]
     },
     "execution_count": 30,
     "metadata": {},
     "output_type": "execute_result"
    }
   ],
   "source": [
    "events['date'] = events['start_time'].dt.strftime(\"%Y-%m-%d\")\n",
    "events = events[[\"date\",\"start_time\",\"title\",\"url\",\"description\"]]\n",
    "events.head()"
   ]
  },
  {
   "cell_type": "code",
   "execution_count": 31,
   "metadata": {},
   "outputs": [
    {
     "name": "stdout",
     "output_type": "stream",
     "text": [
      "591\n"
     ]
    }
   ],
   "source": [
    "texts = [unicode(x) for x in events[\"description\"].as_matrix()]\n",
    "texts = [x if x.lower().strip() != \"nan\" else u\"nan\" for x in texts]\n",
    "print len(texts)"
   ]
  },
  {
   "cell_type": "code",
   "execution_count": 32,
   "metadata": {},
   "outputs": [
    {
     "name": "stdout",
     "output_type": "stream",
     "text": [
      "591\n"
     ]
    }
   ],
   "source": [
    "texts = [unicode(x)+\" . \"+unicode(y) for x,y in events[[\"title\",\"description\"]].as_matrix()]\n",
    "texts = [x if x.lower().strip() != \"nan\" else u\"nan\" for x in texts]\n",
    "print len(texts)"
   ]
  },
  {
   "cell_type": "code",
   "execution_count": 33,
   "metadata": {},
   "outputs": [
    {
     "name": "stdout",
     "output_type": "stream",
     "text": [
      "preprocessing corpus...\n",
      "corpus size: 591\n",
      "first pass over the corpus...\n",
      "\tunescape characters\n",
      "\tremove html\n",
      "\tstrip accents\n",
      "\tjoin URLs\n",
      "\tjoin compound words\n",
      "\tspace out punctuation\n",
      "second pass over the corpus...\n",
      "\tremove punctuation\n",
      "\tconvert to lowercase\n",
      "591\n"
     ]
    }
   ],
   "source": [
    "tp = texttk.TextPreprocesser(decode_error='strict', strip_accents='unicode', ignore_list=[], \\\n",
    "                            lowercase=True, remove_html=True, join_urls=True, use_bigrams=False, \\\n",
    "                            use_ner=False, stanford_ner_path=\"<path_here>\", use_lemmatizer=True, \\\n",
    "                            max_df=0.95, min_df=2, max_features=None)\n",
    "texts = tp.preprocess_corpus(texts)\n",
    "print len(texts)"
   ]
  },
  {
   "cell_type": "code",
   "execution_count": 34,
   "metadata": {},
   "outputs": [
    {
     "data": {
      "text/plain": [
       "'CARNAGE at Terminal 5 on 03/15  18+  More Info and Tickets: http://tbp.im/1ln1bXy  ---------------------------------------------------------  EVENT DETAILS Who: Carnage When: Sat, March 15, 2014  Doors: 8:00 pm / Show: 9:00 pm Where: Terminal 5, 610 W. 56th @ 11 Ave'"
      ]
     },
     "execution_count": 34,
     "metadata": {},
     "output_type": "execute_result"
    }
   ],
   "source": [
    "events[\"description\"].as_matrix()[0]"
   ]
  },
  {
   "cell_type": "code",
   "execution_count": 35,
   "metadata": {},
   "outputs": [
    {
     "data": {
      "text/plain": [
       "u'carnage at terminal carnage at terminal on more info and tickets http tbp im 1ln1bxy event details who carnage when sat march doors pm show pm where terminal 56th ave'"
      ]
     },
     "execution_count": 35,
     "metadata": {},
     "output_type": "execute_result"
    }
   ],
   "source": [
    "texts[0]"
   ]
  },
  {
   "cell_type": "code",
   "execution_count": 36,
   "metadata": {},
   "outputs": [
    {
     "data": {
      "text/plain": [
       "'* Clarence Greenwood Recordings 10th Anniversary Tour *   CITIZEN COPE at Terminal 5 on 10/17  This event is all ages!  Get More Info: http://bit.ly/1ny2hLw ---------------------------------------------------------  EVENT DETAILS Who: Citizen Cope When: Fri, October 17, 2014  Doors: 7:00 pm / Show: 8:00 pm Where: Terminal 5, 610 W. 56th St. @ 11 Ave'"
      ]
     },
     "execution_count": 36,
     "metadata": {},
     "output_type": "execute_result"
    }
   ],
   "source": [
    "events[\"description\"].as_matrix()[2]"
   ]
  },
  {
   "cell_type": "code",
   "execution_count": 37,
   "metadata": {},
   "outputs": [
    {
     "data": {
      "text/plain": [
       "u'citizen cope at terminal on clarence greenwood recordings 10th anniversary tour citizen cope at terminal on this event is all ages get more info http bit ly 1ny2hlw event details who citizen cope when fri october doors pm show pm where terminal 56th st ave'"
      ]
     },
     "execution_count": 37,
     "metadata": {},
     "output_type": "execute_result"
    }
   ],
   "source": [
    "texts[2]"
   ]
  },
  {
   "cell_type": "code",
   "execution_count": 38,
   "metadata": {},
   "outputs": [
    {
     "data": {
      "text/plain": [
       "'COLD WAR KIDS at Terminal 5 on 10/22  California soul-punk quartet Cold War Kids are coming back to the Big Apple for a night full of energetic melodies and memorable old tunes: http://tbp.im/12DBfvl  Get More Info: http://tbp.im/11ezox0 Tickets: http://tbp.im/12DBfvl ---------------------------------------------------------   EVENT DETAILS Who: Cold War Kids When: Tuesday, October 22nd, Doors @ 7PM, Show @ 8PM Where: Terminal 5, 610 W. 56th St. @ 11 Ave'"
      ]
     },
     "execution_count": 38,
     "metadata": {},
     "output_type": "execute_result"
    }
   ],
   "source": [
    "events[\"description\"].as_matrix()[4]"
   ]
  },
  {
   "cell_type": "code",
   "execution_count": 39,
   "metadata": {
    "scrolled": true
   },
   "outputs": [
    {
     "data": {
      "text/plain": [
       "u'cold war kids at terminal cold war kids at terminal on california soulpunk quartet cold war kids are coming back to the big apple for night full of energetic melodies and memorable old tunes http tbp im 12dbfvl get more info http tbp im 11ezox0 tickets http tbp im 12dbfvl event details who cold war kids when tuesday october 22nd doors 7pm show 8pm where terminal 56th st ave'"
      ]
     },
     "execution_count": 39,
     "metadata": {},
     "output_type": "execute_result"
    }
   ],
   "source": [
    "texts[4]"
   ]
  },
  {
   "cell_type": "code",
   "execution_count": 40,
   "metadata": {},
   "outputs": [
    {
     "name": "stdout",
     "output_type": "stream",
     "text": [
      "591\n",
      "30\n",
      "[u'carnage', u'at', u'terminal', u'carnage', u'at', u'terminal', u'on', u'more', u'info', u'and', u'tickets', u'http', u'tbp', u'im', u'1ln1bxy', u'event', u'details', u'who', u'carnage', u'when', u'sat', u'march', u'doors', u'pm', u'show', u'pm', u'where', u'terminal', u'56th', u'ave']\n"
     ]
    }
   ],
   "source": [
    "# tokenize texts\n",
    "from nltk.tokenize import word_tokenize\n",
    "corpus = [word_tokenize(text) for text in texts]\n",
    "print len(corpus)\n",
    "print len(corpus[0])\n",
    "print corpus[0]"
   ]
  },
  {
   "cell_type": "code",
   "execution_count": 41,
   "metadata": {},
   "outputs": [
    {
     "name": "stdout",
     "output_type": "stream",
     "text": [
      "591\n",
      "30\n",
      "[u'carnage', u'at', u'terminal', u'carnage', u'at', u'terminal', u'on', u'more', u'info', u'and', u'ticket', u'http', u'tbp', u'im', u'1ln1bxy', u'event', u'detail', u'who', u'carnage', u'when', u'sat', u'march', u'door', u'pm', u'show', u'pm', u'where', u'terminal', u'56th', u'ave']\n"
     ]
    }
   ],
   "source": [
    "# apply lemmatizer\n",
    "from nltk.stem import WordNetLemmatizer\n",
    "wlem = WordNetLemmatizer()\n",
    "corpus = [[wlem.lemmatize(word) for word in text] for text in corpus]\n",
    "print len(corpus)\n",
    "print len(corpus[0])\n",
    "print corpus[0]"
   ]
  },
  {
   "cell_type": "code",
   "execution_count": 42,
   "metadata": {},
   "outputs": [
    {
     "name": "stdout",
     "output_type": "stream",
     "text": [
      "3124\n"
     ]
    }
   ],
   "source": [
    "# build frequency dictionary of words\n",
    "import nltk\n",
    "all_words = []\n",
    "for text in corpus:\n",
    "    for word in text:\n",
    "        all_words.append(word)\n",
    "        \n",
    "freq_dist = nltk.FreqDist(all_words)\n",
    "print len(freq_dist)"
   ]
  },
  {
   "cell_type": "code",
   "execution_count": 43,
   "metadata": {},
   "outputs": [
    {
     "name": "stdout",
     "output_type": "stream",
     "text": [
      "1601\n",
      "591\n",
      "29\n",
      "[u'carnage', u'at', u'terminal', u'carnage', u'at', u'terminal', u'on', u'more', u'info', u'and', u'ticket', u'http', u'tbp', u'im', u'event', u'detail', u'who', u'carnage', u'when', u'sat', u'march', u'door', u'pm', u'show', u'pm', u'where', u'terminal', u'56th', u'ave']\n"
     ]
    }
   ],
   "source": [
    "# remove words that appear only once\n",
    "only_once = []\n",
    "for w, count in freq_dist.iteritems():\n",
    "    if count == 1:\n",
    "        only_once.append(w)\n",
    "#print only_once\n",
    "print len(only_once)\n",
    "\n",
    "corpus = [[word for word in text if word not in only_once] for text in corpus]\n",
    "print len(corpus)\n",
    "print len(corpus[0])\n",
    "print corpus[0]"
   ]
  },
  {
   "cell_type": "code",
   "execution_count": 44,
   "metadata": {},
   "outputs": [
    {
     "name": "stdout",
     "output_type": "stream",
     "text": [
      "[u'terminal', u'at', u'the', u'on', u'pm', u'show', u'http', u'ticket', u'door', u'and', u'more', u'event', u'info', u'all', u'detail', u'age', u'get', u'of', u'56th', u'when']\n",
      "591\n",
      "10\n",
      "[u'carnage', u'carnage', u'tbp', u'im', u'who', u'carnage', u'sat', u'march', u'where', u'ave']\n"
     ]
    }
   ],
   "source": [
    "# remove very frequent words\n",
    "most_common = [w for w,c in freq_dist.most_common(20)]\n",
    "print(most_common)\n",
    "\n",
    "corpus = [[word for word in text if word not in most_common] for text in corpus]\n",
    "print len(corpus)\n",
    "print len(corpus[0])\n",
    "print corpus[0]"
   ]
  },
  {
   "cell_type": "code",
   "execution_count": 45,
   "metadata": {},
   "outputs": [
    {
     "name": "stdout",
     "output_type": "stream",
     "text": [
      "591\n",
      "10\n",
      "[u'carnage', u'carnage', u'tbp', u'im', u'who', u'carnage', u'sat', u'march', u'where', u'ave']\n"
     ]
    }
   ],
   "source": [
    "# remove stop words\n",
    "stoplist = [\"center\", \"barclays\", \"ticket\", \"information\", \"brooklyn\", \"var\", \"ebvenueid\"]\n",
    "corpus = [[word for word in text if word not in stoplist] for text in corpus]\n",
    "print len(corpus)\n",
    "print len(corpus[0])\n",
    "print corpus[0]"
   ]
  },
  {
   "cell_type": "code",
   "execution_count": 46,
   "metadata": {},
   "outputs": [
    {
     "name": "stdout",
     "output_type": "stream",
     "text": [
      "591\n",
      "max sequence len: 349\n"
     ]
    }
   ],
   "source": [
    "preprocessed_texts = []\n",
    "maxlen = 0\n",
    "for text in corpus:\n",
    "    doc = u\"\"\n",
    "    if len(text) > maxlen:\n",
    "        maxlen = len(text)\n",
    "    for word in text:\n",
    "        doc += word + u\" \"\n",
    "    preprocessed_texts.append(doc.strip())\n",
    "\n",
    "print len(preprocessed_texts)\n",
    "print \"max sequence len:\", maxlen"
   ]
  },
  {
   "cell_type": "code",
   "execution_count": 47,
   "metadata": {},
   "outputs": [
    {
     "name": "stdout",
     "output_type": "stream",
     "text": [
      "num unique words: 591\n"
     ]
    }
   ],
   "source": [
    "unique_words = []\n",
    "for text in preprocessed_texts:\n",
    "    for word in text:\n",
    "        if word not in unique_words:\n",
    "            unique_words.append(word)\n",
    "            \n",
    "print \"num unique words:\", len(preprocessed_texts)"
   ]
  },
  {
   "cell_type": "code",
   "execution_count": 48,
   "metadata": {},
   "outputs": [
    {
     "data": {
      "text/plain": [
       "u'carnage carnage tbp im who carnage sat march where ave'"
      ]
     },
     "execution_count": 48,
     "metadata": {},
     "output_type": "execute_result"
    }
   ],
   "source": [
    "preprocessed_texts[0]"
   ]
  },
  {
   "cell_type": "code",
   "execution_count": 49,
   "metadata": {
    "collapsed": true
   },
   "outputs": [],
   "source": [
    "events[\"description\"] = preprocessed_texts"
   ]
  },
  {
   "cell_type": "code",
   "execution_count": 50,
   "metadata": {},
   "outputs": [
    {
     "data": {
      "text/html": [
       "<div>\n",
       "<style>\n",
       "    .dataframe thead tr:only-child th {\n",
       "        text-align: right;\n",
       "    }\n",
       "\n",
       "    .dataframe thead th {\n",
       "        text-align: left;\n",
       "    }\n",
       "\n",
       "    .dataframe tbody tr th {\n",
       "        vertical-align: top;\n",
       "    }\n",
       "</style>\n",
       "<table border=\"1\" class=\"dataframe\">\n",
       "  <thead>\n",
       "    <tr style=\"text-align: right;\">\n",
       "      <th></th>\n",
       "      <th>date</th>\n",
       "      <th>start_time</th>\n",
       "      <th>title</th>\n",
       "      <th>url</th>\n",
       "      <th>description</th>\n",
       "    </tr>\n",
       "  </thead>\n",
       "  <tbody>\n",
       "    <tr>\n",
       "      <th>0</th>\n",
       "      <td>2014-03-15</td>\n",
       "      <td>2014-03-15 20:00:00</td>\n",
       "      <td>Carnage at Terminal 5</td>\n",
       "      <td>593163697436226</td>\n",
       "      <td>carnage carnage tbp im who carnage sat march w...</td>\n",
       "    </tr>\n",
       "    <tr>\n",
       "      <th>1</th>\n",
       "      <td>2014-11-11</td>\n",
       "      <td>2014-11-11 20:00:00</td>\n",
       "      <td>London Grammar at Terminal 5</td>\n",
       "      <td>1465453707047232</td>\n",
       "      <td>london grammar london grammar bit ly who londo...</td>\n",
       "    </tr>\n",
       "    <tr>\n",
       "      <th>2</th>\n",
       "      <td>2014-10-17</td>\n",
       "      <td>2014-10-17 19:00:00</td>\n",
       "      <td>Citizen Cope at Terminal 5 on 10/17</td>\n",
       "      <td>265560376982598</td>\n",
       "      <td>citizen cope clarence greenwood recording 10th...</td>\n",
       "    </tr>\n",
       "    <tr>\n",
       "      <th>3</th>\n",
       "      <td>2015-11-19</td>\n",
       "      <td>2015-11-19 19:00:00</td>\n",
       "      <td>Azealia Banks</td>\n",
       "      <td>1526707847627630</td>\n",
       "      <td>azealia bank azealia bank</td>\n",
       "    </tr>\n",
       "    <tr>\n",
       "      <th>4</th>\n",
       "      <td>2013-10-22</td>\n",
       "      <td>2013-10-22 19:00:00</td>\n",
       "      <td>Cold War Kids at Terminal 5</td>\n",
       "      <td>641278195885283</td>\n",
       "      <td>cold war kid cold war kid cold war kid are com...</td>\n",
       "    </tr>\n",
       "  </tbody>\n",
       "</table>\n",
       "</div>"
      ],
      "text/plain": [
       "         date          start_time                                title  \\\n",
       "0  2014-03-15 2014-03-15 20:00:00                Carnage at Terminal 5   \n",
       "1  2014-11-11 2014-11-11 20:00:00         London Grammar at Terminal 5   \n",
       "2  2014-10-17 2014-10-17 19:00:00  Citizen Cope at Terminal 5 on 10/17   \n",
       "3  2015-11-19 2015-11-19 19:00:00                        Azealia Banks   \n",
       "4  2013-10-22 2013-10-22 19:00:00          Cold War Kids at Terminal 5   \n",
       "\n",
       "                url                                        description  \n",
       "0   593163697436226  carnage carnage tbp im who carnage sat march w...  \n",
       "1  1465453707047232  london grammar london grammar bit ly who londo...  \n",
       "2   265560376982598  citizen cope clarence greenwood recording 10th...  \n",
       "3  1526707847627630                          azealia bank azealia bank  \n",
       "4   641278195885283  cold war kid cold war kid cold war kid are com...  "
      ]
     },
     "execution_count": 50,
     "metadata": {},
     "output_type": "execute_result"
    }
   ],
   "source": [
    "events.head()"
   ]
  },
  {
   "cell_type": "code",
   "execution_count": 51,
   "metadata": {
    "collapsed": true
   },
   "outputs": [],
   "source": [
    "events.to_csv(\"terminal5_events_preprocessed.tsv\", sep=\"\\t\")"
   ]
  },
  {
   "cell_type": "markdown",
   "metadata": {
    "collapsed": true
   },
   "source": [
    "## Topic model"
   ]
  },
  {
   "cell_type": "code",
   "execution_count": 76,
   "metadata": {},
   "outputs": [
    {
     "data": {
      "text/plain": [
       "885"
      ]
     },
     "execution_count": 76,
     "metadata": {},
     "output_type": "execute_result"
    }
   ],
   "source": [
    "len(preprocessed_texts)"
   ]
  },
  {
   "cell_type": "code",
   "execution_count": 20,
   "metadata": {
    "collapsed": true
   },
   "outputs": [],
   "source": [
    "stoplist = [\"center\", \"barclays\", \"ticket\", \"information\", \"brooklyn\", \"call\", \n",
    "            \"suite\", \"event\", \"call\", \"american\", \"express\", \"click\"]\n",
    "texts = [[word for word in document.lower().split() if word not in stoplist] for document in preprocessed_texts]\n",
    "dictionary = gensim.corpora.Dictionary(texts)\n",
    "corpus = [dictionary.doc2bow(text) for text in texts]"
   ]
  },
  {
   "cell_type": "code",
   "execution_count": 21,
   "metadata": {
    "collapsed": true
   },
   "outputs": [],
   "source": [
    "lda = gensim.models.ldamodel.LdaModel(corpus, id2word=dictionary, num_topics=5, passes=100)"
   ]
  },
  {
   "cell_type": "code",
   "execution_count": 22,
   "metadata": {},
   "outputs": [
    {
     "data": {
      "text/plain": [
       "[(0,\n",
       "  u'0.010*\"ha\" + 0.009*\"new\" + 0.009*\"album\" + 0.009*\"championship\" + 0.008*\"basketball\" + 0.008*\"tour\" + 0.008*\"one\" + 0.008*\"first\" + 0.007*\"world\" + 0.007*\"group\"'),\n",
       " (1,\n",
       "  u'0.020*\"circus\" + 0.015*\"world\" + 0.014*\"family\" + 0.014*\"last\" + 0.014*\"space\" + 0.013*\"earth\" + 0.010*\"visit\" + 0.008*\"show\" + 0.008*\"journey\" + 0.008*\"new\"'),\n",
       " (2,\n",
       "  u'0.017*\"calling\" + 0.017*\"please\" + 0.014*\"individual\" + 0.013*\"make\" + 0.013*\"emailprotected\" + 0.012*\"reservation\" + 0.011*\"today\" + 0.011*\"dinner\" + 0.011*\"club\" + 0.011*\"special\"'),\n",
       " (3,\n",
       "  u'0.027*\"lirr\" + 0.022*\"schedule\" + 0.020*\"train\" + 0.018*\"service\" + 0.013*\"app\" + 0.012*\"scr\" + 0.012*\"adroll\" + 0.010*\"document\" + 0.010*\"check\" + 0.010*\"time\"'),\n",
       " (4,\n",
       "  u'0.021*\"game\" + 0.010*\"v\" + 0.010*\"calling\" + 0.009*\"ice\" + 0.009*\"follow\" + 0.009*\"disney\" + 0.008*\"group\" + 0.008*\"box\" + 0.008*\"office\" + 0.008*\"individual\"')]"
      ]
     },
     "execution_count": 22,
     "metadata": {},
     "output_type": "execute_result"
    }
   ],
   "source": [
    "lda.print_topics(10)"
   ]
  },
  {
   "cell_type": "code",
   "execution_count": 72,
   "metadata": {
    "collapsed": true
   },
   "outputs": [],
   "source": [
    "num_topics = 10\n",
    "lda = gensim.models.ldamodel.LdaModel(corpus, id2word=dictionary, num_topics=num_topics, passes=200)"
   ]
  },
  {
   "cell_type": "code",
   "execution_count": 73,
   "metadata": {},
   "outputs": [
    {
     "data": {
      "text/plain": [
       "[(0,\n",
       "  u'0.025*\"session\" + 0.024*\"wwe\" + 0.021*\"world\" + 0.019*\"meet\" + 0.019*\"30pm\" + 0.017*\"july\" + 0.015*\"superstar\" + 0.014*\"summerslam\" + 0.012*\"august\" + 0.012*\"varekai\"'),\n",
       " (1,\n",
       "  u'0.021*\"tour\" + 0.018*\"album\" + 0.013*\"show\" + 0.011*\"ha\" + 0.011*\"artist\" + 0.009*\"new\" + 0.008*\"individual\" + 0.007*\"special\" + 0.007*\"concert\" + 0.007*\"band\"'),\n",
       " (2,\n",
       "  u'0.016*\"game\" + 0.016*\"jay\" + 0.015*\"net\" + 0.015*\"champion\" + 0.009*\"day\" + 0.009*\"home\" + 0.009*\"matchup\" + 0.009*\"thunder\" + 0.008*\"miami\" + 0.008*\"thursday\"'),\n",
       " (3,\n",
       "  u'0.020*\"ice\" + 0.019*\"disney\" + 0.019*\"follow\" + 0.017*\"please\" + 0.016*\"visiting\" + 0.016*\"box\" + 0.016*\"office\" + 0.015*\"com\" + 0.015*\"group\" + 0.014*\"calling\"'),\n",
       " (4,\n",
       "  u'0.030*\"lirr\" + 0.027*\"schedule\" + 0.023*\"train\" + 0.022*\"please\" + 0.022*\"make\" + 0.021*\"service\" + 0.019*\"check\" + 0.018*\"calling\" + 0.017*\"emailprotected\" + 0.015*\"app\"'),\n",
       " (5,\n",
       "  u'0.014*\"world\" + 0.014*\"music\" + 0.010*\"night\" + 0.008*\"day\" + 0.007*\"show\" + 0.007*\"sunday\" + 0.006*\"take\" + 0.006*\"festival\" + 0.006*\"champion\" + 0.005*\"featuring\"'),\n",
       " (6,\n",
       "  u'0.024*\"circus\" + 0.017*\"family\" + 0.017*\"world\" + 0.016*\"space\" + 0.016*\"last\" + 0.016*\"earth\" + 0.010*\"corporate\" + 0.010*\"promotional\" + 0.010*\"marriott\" + 0.010*\"rate\"'),\n",
       " (7,\n",
       "  u'0.011*\"yes\" + 0.010*\"artist\" + 0.010*\"act\" + 0.010*\"fan\" + 0.009*\"july\" + 0.009*\"subject\" + 0.008*\"insect\" + 0.008*\"show\" + 0.006*\"arena\" + 0.006*\"edge\"'),\n",
       " (8,\n",
       "  u'0.017*\"available\" + 0.017*\"v\" + 0.017*\"group\" + 0.016*\"calling\" + 0.014*\"game\" + 0.013*\"championship\" + 0.012*\"purchase\" + 0.012*\"basketball\" + 0.010*\"atlantic\" + 0.010*\"also\"'),\n",
       " (9,\n",
       "  u'0.024*\"adroll\" + 0.024*\"scr\" + 0.022*\"document\" + 0.020*\"game\" + 0.015*\"var\" + 0.015*\"http\" + 0.015*\"oldonload\" + 0.014*\"point\" + 0.014*\"function\" + 0.013*\"net\"')]"
      ]
     },
     "execution_count": 73,
     "metadata": {},
     "output_type": "execute_result"
    }
   ],
   "source": [
    "lda.print_topics(num_topics)"
   ]
  },
  {
   "cell_type": "code",
   "execution_count": 74,
   "metadata": {
    "collapsed": true
   },
   "outputs": [],
   "source": [
    "topic_dists = lda[corpus]\n",
    "topic_dists_dense = []\n",
    "for dist in topic_dists:\n",
    "    vec = np.zeros(num_topics)\n",
    "    for ix, prob in dist:\n",
    "        vec[ix] = prob\n",
    "    topic_dists_dense.append(vec)"
   ]
  },
  {
   "cell_type": "code",
   "execution_count": 75,
   "metadata": {},
   "outputs": [
    {
     "data": {
      "text/plain": [
       "885"
      ]
     },
     "execution_count": 75,
     "metadata": {},
     "output_type": "execute_result"
    }
   ],
   "source": [
    "len(topic_dists_dense)"
   ]
  },
  {
   "cell_type": "code",
   "execution_count": 76,
   "metadata": {},
   "outputs": [
    {
     "data": {
      "text/plain": [
       "array([ 0.        ,  0.28220087,  0.27845745,  0.        ,  0.10436573,\n",
       "        0.        ,  0.30496719,  0.        ,  0.        ,  0.        ])"
      ]
     },
     "execution_count": 76,
     "metadata": {},
     "output_type": "execute_result"
    }
   ],
   "source": [
    "topic_dists_dense[0]"
   ]
  },
  {
   "cell_type": "code",
   "execution_count": 77,
   "metadata": {},
   "outputs": [
    {
     "data": {
      "text/plain": [
       "array([ 0.        ,  0.        ,  0.        ,  0.        ,  0.93076714,\n",
       "        0.        ,  0.        ,  0.        ,  0.        ,  0.        ])"
      ]
     },
     "execution_count": 77,
     "metadata": {},
     "output_type": "execute_result"
    }
   ],
   "source": [
    "topic_dists_dense[1]"
   ]
  },
  {
   "cell_type": "code",
   "execution_count": 78,
   "metadata": {},
   "outputs": [
    {
     "data": {
      "text/plain": [
       "array([ 0.05,  0.05,  0.05,  0.05,  0.05,  0.05,  0.05,  0.05,  0.05,  0.55])"
      ]
     },
     "execution_count": 78,
     "metadata": {},
     "output_type": "execute_result"
    }
   ],
   "source": [
    "topic_dists_dense[2]"
   ]
  },
  {
   "cell_type": "code",
   "execution_count": 79,
   "metadata": {},
   "outputs": [
    {
     "data": {
      "text/html": [
       "<div>\n",
       "<style>\n",
       "    .dataframe thead tr:only-child th {\n",
       "        text-align: right;\n",
       "    }\n",
       "\n",
       "    .dataframe thead th {\n",
       "        text-align: left;\n",
       "    }\n",
       "\n",
       "    .dataframe tbody tr th {\n",
       "        vertical-align: top;\n",
       "    }\n",
       "</style>\n",
       "<table border=\"1\" class=\"dataframe\">\n",
       "  <thead>\n",
       "    <tr style=\"text-align: right;\">\n",
       "      <th></th>\n",
       "      <th>date</th>\n",
       "      <th>start_time</th>\n",
       "      <th>title</th>\n",
       "      <th>url</th>\n",
       "      <th>description</th>\n",
       "      <th>topics</th>\n",
       "    </tr>\n",
       "  </thead>\n",
       "  <tbody>\n",
       "    <tr>\n",
       "      <th>0</th>\n",
       "      <td>2013-02-22</td>\n",
       "      <td>2013-02-22 19:30:00</td>\n",
       "      <td>Brooklyn Nets vs Houston Rockets</td>\n",
       "      <td>http://www.barclayscenter.com/events/detail/br...</td>\n",
       "      <td>ebvenueid var style provides net season racing...</td>\n",
       "      <td>[0.0, 0.282200868104, 0.278457452291, 0.0, 0.1...</td>\n",
       "    </tr>\n",
       "    <tr>\n",
       "      <th>1</th>\n",
       "      <td>2015-10-09</td>\n",
       "      <td>2015-10-09 19:30:00</td>\n",
       "      <td>New York Islanders vs. Chicago Blackhawks</td>\n",
       "      <td>http://www.barclayscenter.com/events/detail/ne...</td>\n",
       "      <td>express american restaurant club menu event se...</td>\n",
       "      <td>[0.0, 0.0, 0.0, 0.0, 0.930767143456, 0.0, 0.0,...</td>\n",
       "    </tr>\n",
       "    <tr>\n",
       "      <th>2</th>\n",
       "      <td>2015-03-20</td>\n",
       "      <td>2015-03-20 19:30:00</td>\n",
       "      <td>Brooklyn Nets vs. Milwaukee Bucks</td>\n",
       "      <td>http://www.barclayscenter.com/events/detail/br...</td>\n",
       "      <td>nan</td>\n",
       "      <td>[0.0500000000144, 0.050000000005, 0.0500000000...</td>\n",
       "    </tr>\n",
       "    <tr>\n",
       "      <th>3</th>\n",
       "      <td>2013-11-18</td>\n",
       "      <td>2013-11-18 19:30:00</td>\n",
       "      <td>Brooklyn Nets vs. Portland Trail Blazers</td>\n",
       "      <td>http://www.barclayscenter.com/events/detail/br...</td>\n",
       "      <td>nan</td>\n",
       "      <td>[0.0500000000144, 0.050000000005, 0.0500000000...</td>\n",
       "    </tr>\n",
       "    <tr>\n",
       "      <th>4</th>\n",
       "      <td>2015-04-12</td>\n",
       "      <td>2015-04-12 20:00:00</td>\n",
       "      <td>Stevie Wonder</td>\n",
       "      <td>http://www.barclayscenter.com/events/detail/st...</td>\n",
       "      <td>718bksuite call please suite individual inform...</td>\n",
       "      <td>[0.0, 0.689674984, 0.0, 0.0, 0.112730857625, 0...</td>\n",
       "    </tr>\n",
       "  </tbody>\n",
       "</table>\n",
       "</div>"
      ],
      "text/plain": [
       "         date          start_time                                      title  \\\n",
       "0  2013-02-22 2013-02-22 19:30:00           Brooklyn Nets vs Houston Rockets   \n",
       "1  2015-10-09 2015-10-09 19:30:00  New York Islanders vs. Chicago Blackhawks   \n",
       "2  2015-03-20 2015-03-20 19:30:00          Brooklyn Nets vs. Milwaukee Bucks   \n",
       "3  2013-11-18 2013-11-18 19:30:00   Brooklyn Nets vs. Portland Trail Blazers   \n",
       "4  2015-04-12 2015-04-12 20:00:00                              Stevie Wonder   \n",
       "\n",
       "                                                 url  \\\n",
       "0  http://www.barclayscenter.com/events/detail/br...   \n",
       "1  http://www.barclayscenter.com/events/detail/ne...   \n",
       "2  http://www.barclayscenter.com/events/detail/br...   \n",
       "3  http://www.barclayscenter.com/events/detail/br...   \n",
       "4  http://www.barclayscenter.com/events/detail/st...   \n",
       "\n",
       "                                         description  \\\n",
       "0  ebvenueid var style provides net season racing...   \n",
       "1  express american restaurant club menu event se...   \n",
       "2                                               nan    \n",
       "3                                               nan    \n",
       "4  718bksuite call please suite individual inform...   \n",
       "\n",
       "                                              topics  \n",
       "0  [0.0, 0.282200868104, 0.278457452291, 0.0, 0.1...  \n",
       "1  [0.0, 0.0, 0.0, 0.0, 0.930767143456, 0.0, 0.0,...  \n",
       "2  [0.0500000000144, 0.050000000005, 0.0500000000...  \n",
       "3  [0.0500000000144, 0.050000000005, 0.0500000000...  \n",
       "4  [0.0, 0.689674984, 0.0, 0.0, 0.112730857625, 0...  "
      ]
     },
     "execution_count": 79,
     "metadata": {},
     "output_type": "execute_result"
    }
   ],
   "source": [
    "events[\"topics\"] = topic_dists_dense\n",
    "events.head()"
   ]
  },
  {
   "cell_type": "code",
   "execution_count": 80,
   "metadata": {
    "collapsed": true
   },
   "outputs": [],
   "source": [
    "events.to_csv(\"barclays_events_preprocessed_topics.tsv\", sep=\"\\t\")"
   ]
  },
  {
   "cell_type": "code",
   "execution_count": null,
   "metadata": {
    "collapsed": true
   },
   "outputs": [],
   "source": []
  }
 ],
 "metadata": {
  "kernelspec": {
   "display_name": "Python 2",
   "language": "python",
   "name": "python2"
  },
  "language_info": {
   "codemirror_mode": {
    "name": "ipython",
    "version": 2
   },
   "file_extension": ".py",
   "mimetype": "text/x-python",
   "name": "python",
   "nbconvert_exporter": "python",
   "pygments_lexer": "ipython2",
   "version": "2.7.12"
  }
 },
 "nbformat": 4,
 "nbformat_minor": 2
}
